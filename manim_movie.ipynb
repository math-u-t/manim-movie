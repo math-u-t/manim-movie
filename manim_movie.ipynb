{
  "nbformat": 4,
  "nbformat_minor": 0,
  "metadata": {
    "colab": {
      "provenance": [],
      "toc_visible": true,
      "authorship_tag": "ABX9TyNrBeR8cGOvY0zifqCiP0tz",
      "include_colab_link": true
    },
    "kernelspec": {
      "name": "python3",
      "display_name": "Python 3"
    },
    "language_info": {
      "name": "python"
    }
  },
  "cells": [
    {
      "cell_type": "markdown",
      "metadata": {
        "id": "view-in-github",
        "colab_type": "text"
      },
      "source": [
        "<a href=\"https://colab.research.google.com/github/math-u-t/manim-movie/blob/main/manim_movie.ipynb\" target=\"_parent\"><img src=\"https://colab.research.google.com/assets/colab-badge.svg\" alt=\"Open In Colab\"/></a>"
      ]
    },
    {
      "cell_type": "markdown",
      "source": [
        "# 動画コードエリア #"
      ],
      "metadata": {
        "id": "RKD971lOIhI2"
      }
    },
    {
      "cell_type": "code",
      "source": [
        "%%writefile test_simple.py\n",
        "from manim import *\n",
        "\n",
        "class TestSimple(Scene):\n",
        "    def construct(self):\n",
        "        self.play(Create(Circle()))\n",
        "        self.wait(1)\n"
      ],
      "metadata": {
        "colab": {
          "base_uri": "https://localhost:8080/"
        },
        "collapsed": true,
        "id": "RsDbfNJ4GlaI",
        "outputId": "25ac1e9b-6f14-4d4b-c619-3e77787b27b7"
      },
      "execution_count": null,
      "outputs": [
        {
          "output_type": "stream",
          "name": "stdout",
          "text": [
            "Overwriting test_simple.py\n"
          ]
        }
      ]
    },
    {
      "cell_type": "code",
      "source": [
        "from IPython.display import Video\n",
        "Video(\"media/videos/test_simple/480p15/TestSimple.mp4\", embed=True)"
      ],
      "metadata": {
        "colab": {
          "base_uri": "https://localhost:8080/",
          "height": 502
        },
        "id": "6rMLlcpuGsjV",
        "outputId": "26c76f32-9533-4148-89e6-8b0c057bd7e8"
      },
      "execution_count": null,
      "outputs": [
        {
          "output_type": "execute_result",
          "data": {
            "text/plain": [
              "<IPython.core.display.Video object>"
            ],
            "text/html": [
              "<video controls  >\n",
              " <source src=\"data:video/mp4;base64,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\" type=\"video/mp4\">\n",
              " Your browser does not support the video tag.\n",
              " </video>"
            ]
          },
          "metadata": {},
          "execution_count": 31
        }
      ]
    },
    {
      "cell_type": "code",
      "source": [
        "!find media/videos -name \"TestSimple.mp4\""
      ],
      "metadata": {
        "colab": {
          "base_uri": "https://localhost:8080/"
        },
        "id": "JwQUC5KNHUIc",
        "outputId": "f4df07c5-1a2a-4ebd-9dbc-0c285b9ee9a2"
      },
      "execution_count": null,
      "outputs": [
        {
          "output_type": "stream",
          "name": "stdout",
          "text": [
            "media/videos/test_simple/480p15/TestSimple.mp4\n"
          ]
        }
      ]
    },
    {
      "cell_type": "markdown",
      "source": [
        "# 初期設定 #"
      ],
      "metadata": {
        "id": "K7XpKb--Ip1P"
      }
    },
    {
      "cell_type": "code",
      "source": [
        "!apt-get update\n",
        "!apt-get install -y ffmpeg\n",
        "!pip install -q manim==0.19.0"
      ],
      "metadata": {
        "colab": {
          "base_uri": "https://localhost:8080/"
        },
        "collapsed": true,
        "id": "IZ4scBpCGiFN",
        "outputId": "1defa6b7-bda5-43cb-f453-05d10b6ea0a6"
      },
      "execution_count": null,
      "outputs": [
        {
          "output_type": "stream",
          "name": "stdout",
          "text": [
            "Hit:1 https://developer.download.nvidia.com/compute/cuda/repos/ubuntu2204/x86_64  InRelease\n",
            "Hit:2 http://security.ubuntu.com/ubuntu jammy-security InRelease\n",
            "Hit:3 https://cloud.r-project.org/bin/linux/ubuntu jammy-cran40/ InRelease\n",
            "Hit:4 http://archive.ubuntu.com/ubuntu jammy InRelease\n",
            "Hit:5 http://archive.ubuntu.com/ubuntu jammy-updates InRelease\n",
            "Hit:6 https://ppa.launchpadcontent.net/deadsnakes/ppa/ubuntu jammy InRelease\n",
            "Hit:7 https://r2u.stat.illinois.edu/ubuntu jammy InRelease\n",
            "Hit:8 http://archive.ubuntu.com/ubuntu jammy-backports InRelease\n",
            "Hit:9 https://ppa.launchpadcontent.net/graphics-drivers/ppa/ubuntu jammy InRelease\n",
            "Hit:10 https://ppa.launchpadcontent.net/ubuntugis/ppa/ubuntu jammy InRelease\n",
            "Reading package lists... Done\n",
            "W: Skipping acquire of configured file 'main/source/Sources' as repository 'https://r2u.stat.illinois.edu/ubuntu jammy InRelease' does not seem to provide it (sources.list entry misspelt?)\n",
            "Reading package lists... Done\n",
            "Building dependency tree... Done\n",
            "Reading state information... Done\n",
            "ffmpeg is already the newest version (7:4.4.2-0ubuntu0.22.04.1).\n",
            "0 upgraded, 0 newly installed, 0 to remove and 36 not upgraded.\n"
          ]
        }
      ]
    },
    {
      "cell_type": "code",
      "source": [
        "!manim -ql --renderer=cairo test_simple.py TestSimple"
      ],
      "metadata": {
        "colab": {
          "base_uri": "https://localhost:8080/"
        },
        "collapsed": true,
        "id": "wDpJzitMGpcQ",
        "outputId": "146a8c02-2a01-4326-c6c7-3892cd243a24"
      },
      "execution_count": null,
      "outputs": [
        {
          "output_type": "stream",
          "name": "stdout",
          "text": [
            "Manim Community \u001b[32mv0.\u001b[0m\u001b[32m19.0\u001b[0m\n",
            "\n",
            "\rAnimation 0: Create(Circle):   0% 0/15 [00:00<?, ?it/s]\r                                                       \r\u001b[2;36m[07/16/25 02:42:33]\u001b[0m\u001b[2;36m \u001b[0m\u001b[32mINFO    \u001b[0m Animation \u001b[32m0\u001b[0m : Partial      \u001b]8;id=38392;file:///usr/local/lib/python3.11/dist-packages/manim/scene/scene_file_writer.py\u001b\\\u001b[2mscene_file_writer.py\u001b[0m\u001b]8;;\u001b\\\u001b[2m:\u001b[0m\u001b]8;id=462030;file:///usr/local/lib/python3.11/dist-packages/manim/scene/scene_file_writer.py#588\u001b\\\u001b[2m588\u001b[0m\u001b]8;;\u001b\\\n",
            "\u001b[2;36m                    \u001b[0m         movie file written in      \u001b[2m                        \u001b[0m\n",
            "\u001b[2;36m                    \u001b[0m         \u001b[32m'/content/media/videos/tes\u001b[0m \u001b[2m                        \u001b[0m\n",
            "\u001b[2;36m                    \u001b[0m         \u001b[32mt_simple/480p15/partial_mo\u001b[0m \u001b[2m                        \u001b[0m\n",
            "\u001b[2;36m                    \u001b[0m         \u001b[32mvie_files/TestSimple/11858\u001b[0m \u001b[2m                        \u001b[0m\n",
            "\u001b[2;36m                    \u001b[0m         \u001b[32m18338_3789429803_223132457\u001b[0m \u001b[2m                        \u001b[0m\n",
            "\u001b[2;36m                    \u001b[0m         \u001b[32m.mp4'\u001b[0m                      \u001b[2m                        \u001b[0m\n",
            "\u001b[2;36m                   \u001b[0m\u001b[2;36m \u001b[0m\u001b[32mINFO    \u001b[0m Animation \u001b[32m1\u001b[0m : Partial      \u001b]8;id=856789;file:///usr/local/lib/python3.11/dist-packages/manim/scene/scene_file_writer.py\u001b\\\u001b[2mscene_file_writer.py\u001b[0m\u001b]8;;\u001b\\\u001b[2m:\u001b[0m\u001b]8;id=160642;file:///usr/local/lib/python3.11/dist-packages/manim/scene/scene_file_writer.py#588\u001b\\\u001b[2m588\u001b[0m\u001b]8;;\u001b\\\n",
            "\u001b[2;36m                    \u001b[0m         movie file written in      \u001b[2m                        \u001b[0m\n",
            "\u001b[2;36m                    \u001b[0m         \u001b[32m'/content/media/videos/tes\u001b[0m \u001b[2m                        \u001b[0m\n",
            "\u001b[2;36m                    \u001b[0m         \u001b[32mt_simple/480p15/partial_mo\u001b[0m \u001b[2m                        \u001b[0m\n",
            "\u001b[2;36m                    \u001b[0m         \u001b[32mvie_files/TestSimple/62464\u001b[0m \u001b[2m                        \u001b[0m\n",
            "\u001b[2;36m                    \u001b[0m         \u001b[32m2324_4217992463_151624741.\u001b[0m \u001b[2m                        \u001b[0m\n",
            "\u001b[2;36m                    \u001b[0m         \u001b[32mmp4'\u001b[0m                       \u001b[2m                        \u001b[0m\n",
            "\u001b[2;36m                   \u001b[0m\u001b[2;36m \u001b[0m\u001b[32mINFO    \u001b[0m Combining to Movie file.   \u001b]8;id=484679;file:///usr/local/lib/python3.11/dist-packages/manim/scene/scene_file_writer.py\u001b\\\u001b[2mscene_file_writer.py\u001b[0m\u001b]8;;\u001b\\\u001b[2m:\u001b[0m\u001b]8;id=411584;file:///usr/local/lib/python3.11/dist-packages/manim/scene/scene_file_writer.py#739\u001b\\\u001b[2m739\u001b[0m\u001b]8;;\u001b\\\n",
            "\u001b[2;36m                   \u001b[0m\u001b[2;36m \u001b[0m\u001b[32mINFO    \u001b[0m                            \u001b]8;id=509598;file:///usr/local/lib/python3.11/dist-packages/manim/scene/scene_file_writer.py\u001b\\\u001b[2mscene_file_writer.py\u001b[0m\u001b]8;;\u001b\\\u001b[2m:\u001b[0m\u001b]8;id=644325;file:///usr/local/lib/python3.11/dist-packages/manim/scene/scene_file_writer.py#886\u001b\\\u001b[2m886\u001b[0m\u001b]8;;\u001b\\\n",
            "\u001b[2;36m                    \u001b[0m         \u001b[1;33mFile\u001b[0m ready at              \u001b[2m                        \u001b[0m\n",
            "\u001b[2;36m                    \u001b[0m         \u001b[32m'/content/media/videos/tes\u001b[0m \u001b[2m                        \u001b[0m\n",
            "\u001b[2;36m                    \u001b[0m         \u001b[32mt_simple/480p15/TestSimple\u001b[0m \u001b[2m                        \u001b[0m\n",
            "\u001b[2;36m                    \u001b[0m         \u001b[32m.mp4'\u001b[0m                      \u001b[2m                        \u001b[0m\n",
            "\u001b[2;36m                    \u001b[0m                                    \u001b[2m                        \u001b[0m\n",
            "\u001b[2;36m                   \u001b[0m\u001b[2;36m \u001b[0m\u001b[32mINFO    \u001b[0m \u001b[1;33mRendered\u001b[0m TestSimple                    \u001b]8;id=166233;file:///usr/local/lib/python3.11/dist-packages/manim/scene/scene.py\u001b\\\u001b[2mscene.py\u001b[0m\u001b]8;;\u001b\\\u001b[2m:\u001b[0m\u001b]8;id=22375;file:///usr/local/lib/python3.11/dist-packages/manim/scene/scene.py#255\u001b\\\u001b[2m255\u001b[0m\u001b]8;;\u001b\\\n",
            "\u001b[2;36m                    \u001b[0m         \u001b[1;33mPlayed\u001b[0m \u001b[32m2\u001b[0m \u001b[1;33manimations\u001b[0m                    \u001b[2m            \u001b[0m\n"
          ]
        }
      ]
    }
  ]
}